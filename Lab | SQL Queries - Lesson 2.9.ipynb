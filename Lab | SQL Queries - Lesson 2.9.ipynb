{
 "cells": [
  {
   "cell_type": "markdown",
   "metadata": {},
   "source": [
    "1. In this lab we will find the customers who were active in consecutive months of May and June. Follow the steps to complete the analysis.\n",
    "\n",
    "2. Create a table rentals_may to store the data from rental table with information for the month of May.\n",
    "\n",
    "3. Insert values in the table rentals_may using the table rental, filtering values only for the month of May.\n",
    "\n",
    "4. Create a table rentals_june to store the data from rental table with information for the month of June.\n",
    "\n",
    "5. Insert values in the table rentals_june using the table rental, filtering values only for the month of June.\n",
    "\n",
    "6. Check the number of rentals for each customer for May.\n",
    "\n",
    "7. Check the number of rentals for each customer for June.\n",
    "\n",
    "8. Create a Python connection with SQL database and retrieve the results of the last two queries (also mentioned below) as dataframes:\n",
    "\n",
    "9. Check the number of rentals for each customer for May\n",
    "\n",
    "10. Check the number of rentals for each customer for June\n",
    "\n",
    "Hint: You can store the results from the two queries in two separate dataframes.\n",
    "\n",
    "Write a function that checks if customer borrowed more or less books in the month of June as compared to May.\n",
    "\n",
    "Hint: For this part, you can create a join between the two dataframes created before, using the merge function available for pandas dataframes. Here is a link to the documentation for the merge function."
   ]
  },
  {
   "cell_type": "code",
   "execution_count": 1,
   "metadata": {},
   "outputs": [
    {
     "name": "stdout",
     "output_type": "stream",
     "text": [
      "········\n"
     ]
    }
   ],
   "source": [
    "import pymysql\n",
    "from sqlalchemy import create_engine\n",
    "import pandas as pd\n",
    "import numpy as np\n",
    "import getpass  # To get the password without showing the input\n",
    "password = getpass.getpass()"
   ]
  },
  {
   "cell_type": "code",
   "execution_count": 2,
   "metadata": {},
   "outputs": [],
   "source": [
    "# getting\n",
    "connection_string = 'mysql+pymysql://root:' + password + '@localhost/bank'\n",
    "engine = create_engine(connection_string)\n",
    "data_rentals_may = pd.read_sql_query('SELECT * FROM sakila.rentals_may', engine)\n",
    "data_rentals_june = pd.read_sql_query('SELECT * FROM sakila.rentals_june', engine)"
   ]
  },
  {
   "cell_type": "code",
   "execution_count": 3,
   "metadata": {},
   "outputs": [
    {
     "data": {
      "text/html": [
       "<div>\n",
       "<style scoped>\n",
       "    .dataframe tbody tr th:only-of-type {\n",
       "        vertical-align: middle;\n",
       "    }\n",
       "\n",
       "    .dataframe tbody tr th {\n",
       "        vertical-align: top;\n",
       "    }\n",
       "\n",
       "    .dataframe thead th {\n",
       "        text-align: right;\n",
       "    }\n",
       "</style>\n",
       "<table border=\"1\" class=\"dataframe\">\n",
       "  <thead>\n",
       "    <tr style=\"text-align: right;\">\n",
       "      <th></th>\n",
       "      <th>rental_id</th>\n",
       "      <th>rental_date</th>\n",
       "      <th>inventory_id</th>\n",
       "      <th>customer_id</th>\n",
       "      <th>return_date</th>\n",
       "      <th>staff_id</th>\n",
       "      <th>last_update</th>\n",
       "    </tr>\n",
       "  </thead>\n",
       "  <tbody>\n",
       "    <tr>\n",
       "      <th>0</th>\n",
       "      <td>1</td>\n",
       "      <td>2005-05-24 22:53:30</td>\n",
       "      <td>367</td>\n",
       "      <td>130</td>\n",
       "      <td>2005-05-26 22:04:30</td>\n",
       "      <td>1</td>\n",
       "      <td>2006-02-15 21:30:53</td>\n",
       "    </tr>\n",
       "    <tr>\n",
       "      <th>1</th>\n",
       "      <td>2</td>\n",
       "      <td>2005-05-24 22:54:33</td>\n",
       "      <td>1525</td>\n",
       "      <td>459</td>\n",
       "      <td>2005-05-28 19:40:33</td>\n",
       "      <td>1</td>\n",
       "      <td>2006-02-15 21:30:53</td>\n",
       "    </tr>\n",
       "    <tr>\n",
       "      <th>2</th>\n",
       "      <td>3</td>\n",
       "      <td>2005-05-24 23:03:39</td>\n",
       "      <td>1711</td>\n",
       "      <td>408</td>\n",
       "      <td>2005-06-01 22:12:39</td>\n",
       "      <td>1</td>\n",
       "      <td>2006-02-15 21:30:53</td>\n",
       "    </tr>\n",
       "    <tr>\n",
       "      <th>3</th>\n",
       "      <td>4</td>\n",
       "      <td>2005-05-24 23:04:41</td>\n",
       "      <td>2452</td>\n",
       "      <td>333</td>\n",
       "      <td>2005-06-03 01:43:41</td>\n",
       "      <td>2</td>\n",
       "      <td>2006-02-15 21:30:53</td>\n",
       "    </tr>\n",
       "    <tr>\n",
       "      <th>4</th>\n",
       "      <td>5</td>\n",
       "      <td>2005-05-24 23:05:21</td>\n",
       "      <td>2079</td>\n",
       "      <td>222</td>\n",
       "      <td>2005-06-02 04:33:21</td>\n",
       "      <td>1</td>\n",
       "      <td>2006-02-15 21:30:53</td>\n",
       "    </tr>\n",
       "  </tbody>\n",
       "</table>\n",
       "</div>"
      ],
      "text/plain": [
       "   rental_id         rental_date  inventory_id  customer_id  \\\n",
       "0          1 2005-05-24 22:53:30           367          130   \n",
       "1          2 2005-05-24 22:54:33          1525          459   \n",
       "2          3 2005-05-24 23:03:39          1711          408   \n",
       "3          4 2005-05-24 23:04:41          2452          333   \n",
       "4          5 2005-05-24 23:05:21          2079          222   \n",
       "\n",
       "          return_date  staff_id         last_update  \n",
       "0 2005-05-26 22:04:30         1 2006-02-15 21:30:53  \n",
       "1 2005-05-28 19:40:33         1 2006-02-15 21:30:53  \n",
       "2 2005-06-01 22:12:39         1 2006-02-15 21:30:53  \n",
       "3 2005-06-03 01:43:41         2 2006-02-15 21:30:53  \n",
       "4 2005-06-02 04:33:21         1 2006-02-15 21:30:53  "
      ]
     },
     "execution_count": 3,
     "metadata": {},
     "output_type": "execute_result"
    }
   ],
   "source": [
    "data_rentals_may.head()"
   ]
  },
  {
   "cell_type": "code",
   "execution_count": 4,
   "metadata": {},
   "outputs": [
    {
     "data": {
      "text/html": [
       "<div>\n",
       "<style scoped>\n",
       "    .dataframe tbody tr th:only-of-type {\n",
       "        vertical-align: middle;\n",
       "    }\n",
       "\n",
       "    .dataframe tbody tr th {\n",
       "        vertical-align: top;\n",
       "    }\n",
       "\n",
       "    .dataframe thead th {\n",
       "        text-align: right;\n",
       "    }\n",
       "</style>\n",
       "<table border=\"1\" class=\"dataframe\">\n",
       "  <thead>\n",
       "    <tr style=\"text-align: right;\">\n",
       "      <th></th>\n",
       "      <th>rental_id</th>\n",
       "      <th>rental_date</th>\n",
       "      <th>inventory_id</th>\n",
       "      <th>customer_id</th>\n",
       "      <th>return_date</th>\n",
       "      <th>staff_id</th>\n",
       "      <th>last_update</th>\n",
       "    </tr>\n",
       "  </thead>\n",
       "  <tbody>\n",
       "    <tr>\n",
       "      <th>0</th>\n",
       "      <td>1158</td>\n",
       "      <td>2005-06-14 22:53:33</td>\n",
       "      <td>1632</td>\n",
       "      <td>416</td>\n",
       "      <td>2005-06-18 21:37:33</td>\n",
       "      <td>2</td>\n",
       "      <td>2006-02-15 21:30:53</td>\n",
       "    </tr>\n",
       "    <tr>\n",
       "      <th>1</th>\n",
       "      <td>1159</td>\n",
       "      <td>2005-06-14 22:55:13</td>\n",
       "      <td>4395</td>\n",
       "      <td>516</td>\n",
       "      <td>2005-06-17 02:11:13</td>\n",
       "      <td>1</td>\n",
       "      <td>2006-02-15 21:30:53</td>\n",
       "    </tr>\n",
       "    <tr>\n",
       "      <th>2</th>\n",
       "      <td>1160</td>\n",
       "      <td>2005-06-14 23:00:34</td>\n",
       "      <td>2795</td>\n",
       "      <td>239</td>\n",
       "      <td>2005-06-18 01:58:34</td>\n",
       "      <td>2</td>\n",
       "      <td>2006-02-15 21:30:53</td>\n",
       "    </tr>\n",
       "    <tr>\n",
       "      <th>3</th>\n",
       "      <td>1161</td>\n",
       "      <td>2005-06-14 23:07:08</td>\n",
       "      <td>1690</td>\n",
       "      <td>285</td>\n",
       "      <td>2005-06-21 17:12:08</td>\n",
       "      <td>1</td>\n",
       "      <td>2006-02-15 21:30:53</td>\n",
       "    </tr>\n",
       "    <tr>\n",
       "      <th>4</th>\n",
       "      <td>1162</td>\n",
       "      <td>2005-06-14 23:09:38</td>\n",
       "      <td>987</td>\n",
       "      <td>310</td>\n",
       "      <td>2005-06-23 22:00:38</td>\n",
       "      <td>1</td>\n",
       "      <td>2006-02-15 21:30:53</td>\n",
       "    </tr>\n",
       "  </tbody>\n",
       "</table>\n",
       "</div>"
      ],
      "text/plain": [
       "   rental_id         rental_date  inventory_id  customer_id  \\\n",
       "0       1158 2005-06-14 22:53:33          1632          416   \n",
       "1       1159 2005-06-14 22:55:13          4395          516   \n",
       "2       1160 2005-06-14 23:00:34          2795          239   \n",
       "3       1161 2005-06-14 23:07:08          1690          285   \n",
       "4       1162 2005-06-14 23:09:38           987          310   \n",
       "\n",
       "          return_date  staff_id         last_update  \n",
       "0 2005-06-18 21:37:33         2 2006-02-15 21:30:53  \n",
       "1 2005-06-17 02:11:13         1 2006-02-15 21:30:53  \n",
       "2 2005-06-18 01:58:34         2 2006-02-15 21:30:53  \n",
       "3 2005-06-21 17:12:08         1 2006-02-15 21:30:53  \n",
       "4 2005-06-23 22:00:38         1 2006-02-15 21:30:53  "
      ]
     },
     "execution_count": 4,
     "metadata": {},
     "output_type": "execute_result"
    }
   ],
   "source": [
    "data_rentals_june.head()"
   ]
  },
  {
   "cell_type": "code",
   "execution_count": 8,
   "metadata": {},
   "outputs": [
    {
     "data": {
      "text/html": [
       "<div>\n",
       "<style scoped>\n",
       "    .dataframe tbody tr th:only-of-type {\n",
       "        vertical-align: middle;\n",
       "    }\n",
       "\n",
       "    .dataframe tbody tr th {\n",
       "        vertical-align: top;\n",
       "    }\n",
       "\n",
       "    .dataframe thead th {\n",
       "        text-align: right;\n",
       "    }\n",
       "</style>\n",
       "<table border=\"1\" class=\"dataframe\">\n",
       "  <thead>\n",
       "    <tr style=\"text-align: right;\">\n",
       "      <th></th>\n",
       "      <th>customer_id</th>\n",
       "      <th>rentals</th>\n",
       "    </tr>\n",
       "  </thead>\n",
       "  <tbody>\n",
       "    <tr>\n",
       "      <th>0</th>\n",
       "      <td>197</td>\n",
       "      <td>8</td>\n",
       "    </tr>\n",
       "    <tr>\n",
       "      <th>1</th>\n",
       "      <td>109</td>\n",
       "      <td>7</td>\n",
       "    </tr>\n",
       "    <tr>\n",
       "      <th>2</th>\n",
       "      <td>506</td>\n",
       "      <td>7</td>\n",
       "    </tr>\n",
       "    <tr>\n",
       "      <th>3</th>\n",
       "      <td>19</td>\n",
       "      <td>6</td>\n",
       "    </tr>\n",
       "    <tr>\n",
       "      <th>4</th>\n",
       "      <td>53</td>\n",
       "      <td>6</td>\n",
       "    </tr>\n",
       "  </tbody>\n",
       "</table>\n",
       "</div>"
      ],
      "text/plain": [
       "   customer_id  rentals\n",
       "0          197        8\n",
       "1          109        7\n",
       "2          506        7\n",
       "3           19        6\n",
       "4           53        6"
      ]
     },
     "execution_count": 8,
     "metadata": {},
     "output_type": "execute_result"
    }
   ],
   "source": [
    "# rentals for each customer in may\n",
    "engine = create_engine(connection_string)\n",
    "df_customer_rentals_may = pd.read_sql_query('SELECT customer_id, count(rental_id)as rentals FROM sakila.rentals_may group by customer_id order by rentals desc', engine)\n",
    "df_customer_rentals_may.head()"
   ]
  },
  {
   "cell_type": "code",
   "execution_count": 9,
   "metadata": {
    "scrolled": false
   },
   "outputs": [
    {
     "data": {
      "text/html": [
       "<div>\n",
       "<style scoped>\n",
       "    .dataframe tbody tr th:only-of-type {\n",
       "        vertical-align: middle;\n",
       "    }\n",
       "\n",
       "    .dataframe tbody tr th {\n",
       "        vertical-align: top;\n",
       "    }\n",
       "\n",
       "    .dataframe thead th {\n",
       "        text-align: right;\n",
       "    }\n",
       "</style>\n",
       "<table border=\"1\" class=\"dataframe\">\n",
       "  <thead>\n",
       "    <tr style=\"text-align: right;\">\n",
       "      <th></th>\n",
       "      <th>customer_id</th>\n",
       "      <th>rentals</th>\n",
       "    </tr>\n",
       "  </thead>\n",
       "  <tbody>\n",
       "    <tr>\n",
       "      <th>0</th>\n",
       "      <td>31</td>\n",
       "      <td>11</td>\n",
       "    </tr>\n",
       "    <tr>\n",
       "      <th>1</th>\n",
       "      <td>454</td>\n",
       "      <td>10</td>\n",
       "    </tr>\n",
       "    <tr>\n",
       "      <th>2</th>\n",
       "      <td>213</td>\n",
       "      <td>9</td>\n",
       "    </tr>\n",
       "    <tr>\n",
       "      <th>3</th>\n",
       "      <td>267</td>\n",
       "      <td>9</td>\n",
       "    </tr>\n",
       "    <tr>\n",
       "      <th>4</th>\n",
       "      <td>295</td>\n",
       "      <td>9</td>\n",
       "    </tr>\n",
       "  </tbody>\n",
       "</table>\n",
       "</div>"
      ],
      "text/plain": [
       "   customer_id  rentals\n",
       "0           31       11\n",
       "1          454       10\n",
       "2          213        9\n",
       "3          267        9\n",
       "4          295        9"
      ]
     },
     "execution_count": 9,
     "metadata": {},
     "output_type": "execute_result"
    }
   ],
   "source": [
    "# rentals for each customer in june\n",
    "engine = create_engine(connection_string)\n",
    "df_customer_rentals_june = pd.read_sql_query('SELECT customer_id, count(rental_id)as rentals FROM sakila.rentals_june group by customer_id order by rentals desc', engine)\n",
    "df_customer_rentals_june.head()"
   ]
  },
  {
   "cell_type": "code",
   "execution_count": 84,
   "metadata": {},
   "outputs": [
    {
     "name": "stdout",
     "output_type": "stream",
     "text": [
      "<class 'pandas.core.frame.DataFrame'>\n",
      "RangeIndex: 590 entries, 0 to 589\n",
      "Data columns (total 2 columns):\n",
      " #   Column       Non-Null Count  Dtype\n",
      "---  ------       --------------  -----\n",
      " 0   customer_id  590 non-null    int64\n",
      " 1   rentals      590 non-null    int64\n",
      "dtypes: int64(2)\n",
      "memory usage: 9.3 KB\n"
     ]
    }
   ],
   "source": [
    "df_customer_rentals_june.info()"
   ]
  },
  {
   "cell_type": "code",
   "execution_count": 116,
   "metadata": {},
   "outputs": [],
   "source": [
    "# Write a function that checks \n",
    "# if customer borrowed more or less books \n",
    "# in the month of June as compared to May.\n",
    "\n",
    "\n",
    "# merging the data frames\n",
    "merged = df_customer_rentals_june.merge(df_customer_rentals_may, how='outer', on='customer_id')"
   ]
  },
  {
   "cell_type": "code",
   "execution_count": 117,
   "metadata": {},
   "outputs": [],
   "source": [
    "# defining a function to check the rentals \n",
    "\n",
    "def checkcustomer():\n",
    "    # preparing lists\n",
    "    lst_customer_id = list(merged['customer_id'])\n",
    "    lst_rentals_may = list(merged['rentals_x'])\n",
    "    lst_rentals_june = list(merged['rentals_y'])\n",
    "    \n",
    "    # choose customer to check\n",
    "    customer = int(input('Which customer would you like to check? '))\n",
    "    \n",
    "    if customer in lst_customer_id:\n",
    "        index = lst_customer_id.index(customer)\n",
    "        # checking the rentals\n",
    "        if lst_rentals_may[index] > lst_rentals_june[index]:\n",
    "            print('Customer {} had more rentals in may.'.format(customer))\n",
    "\n",
    "        elif lst_rentals_may[index] < lst_rentals_june[index]:\n",
    "            print('Customer {} had more rentals in June.'.format(customer))\n",
    "\n",
    "        elif lst_rentals_may[index] == lst_rentals_june[index]:\n",
    "            print('Customer {} had as many rentals in may as in june.'.format(customer))\n",
    "\n",
    "\n",
    "        elif lst_rentals_may[index] is False :\n",
    "            print('Customer {} had no rentals in may.'.format(customer))\n",
    "\n",
    "        elif lst_rentals_june[index] is False :\n",
    "            print('Customer {} had no rentals in june.'.format(customer))\n",
    "\n",
    "        else: print('Unable to compare.')\n",
    "    \n",
    "    else: \n",
    "        print(\"Customer doesn't exist.\")\n",
    "        "
   ]
  },
  {
   "cell_type": "code",
   "execution_count": 119,
   "metadata": {},
   "outputs": [
    {
     "name": "stdout",
     "output_type": "stream",
     "text": [
      "Which customer would you like to check? 421\n",
      "Customer 421 had more rentals in may.\n"
     ]
    }
   ],
   "source": [
    "# executing the function\n",
    "\n",
    "checkcustomer()"
   ]
  },
  {
   "cell_type": "code",
   "execution_count": null,
   "metadata": {},
   "outputs": [],
   "source": []
  }
 ],
 "metadata": {
  "kernelspec": {
   "display_name": "Python 3",
   "language": "python",
   "name": "python3"
  },
  "language_info": {
   "codemirror_mode": {
    "name": "ipython",
    "version": 3
   },
   "file_extension": ".py",
   "mimetype": "text/x-python",
   "name": "python",
   "nbconvert_exporter": "python",
   "pygments_lexer": "ipython3",
   "version": "3.8.5"
  }
 },
 "nbformat": 4,
 "nbformat_minor": 4
}
